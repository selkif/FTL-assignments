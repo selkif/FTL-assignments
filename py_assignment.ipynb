{
  "nbformat": 4,
  "nbformat_minor": 0,
  "metadata": {
    "colab": {
      "provenance": [],
      "toc_visible": true,
      "authorship_tag": "ABX9TyNQQSw6g2PXXKltnJrSrskq",
      "include_colab_link": true
    },
    "kernelspec": {
      "name": "python3",
      "display_name": "Python 3"
    },
    "language_info": {
      "name": "python"
    }
  },
  "cells": [
    {
      "cell_type": "markdown",
      "metadata": {
        "id": "view-in-github",
        "colab_type": "text"
      },
      "source": [
        "<a href=\"https://colab.research.google.com/github/selkif/FTL-assignments/blob/main/py_assignment.ipynb\" target=\"_parent\"><img src=\"https://colab.research.google.com/assets/colab-badge.svg\" alt=\"Open In Colab\"/></a>"
      ]
    },
    {
      "cell_type": "markdown",
      "source": [
        "name: selam Kiflay Tekle\n",
        "\n",
        "Email: selamkiflay10@gmail.com"
      ],
      "metadata": {
        "id": "H4yxMEeY42On"
      }
    },
    {
      "cell_type": "markdown",
      "source": [
        "**Assignments**"
      ],
      "metadata": {
        "id": "kaRsdSUlxaSz"
      }
    },
    {
      "cell_type": "markdown",
      "source": [
        "**Exercise 1: BMI calculator**"
      ],
      "metadata": {
        "id": "SCGyNeSX9okB"
      }
    },
    {
      "cell_type": "code",
      "source": [
        "\n",
        "def correct_input(inputvalue: str) -> float:\n",
        "    while True:\n",
        "        try:\n",
        "            value = float(input(inputvalue))\n",
        "            if value <= 0:\n",
        "                print('Please enter a correct number.')\n",
        "            else:\n",
        "                return value\n",
        "        except ValueError:\n",
        "            print('Invalid input. Please enter a number.')\n",
        "\n",
        "weight= correct_input('enter your weight in kilograms')\n",
        "\n",
        "height = correct_input('enter your height in meter')\n",
        "\n",
        "\n",
        "\n",
        "bmi= weight/ (height**2)\n",
        "#print(bmi)\n",
        "if bmi < 18.5:\n",
        "    print(f'your BMI is {bmi:.2f}. you are underweight')\n",
        "elif 18.5 <= bmi < 25:\n",
        "    print(f'your BMI is {bmi:.2f}.normal weight')\n",
        "elif 25 <= bmi < 29.9:\n",
        "    print(f'your BMI is {bmi:.2f}.you are overweight')\n",
        "else :\n",
        "    print(f'your BMI is {bmi:.2f} you are obese')\n",
        "\n",
        "\n"
      ],
      "metadata": {
        "colab": {
          "base_uri": "https://localhost:8080/"
        },
        "id": "4W25mXkPxZuE",
        "outputId": "fe6017a9-520d-4c24-f5fa-a702a320d20f"
      },
      "execution_count": null,
      "outputs": [
        {
          "output_type": "stream",
          "name": "stdout",
          "text": [
            "enter your weight in kilograms0\n",
            "Please enter a correct number.\n",
            "enter your weight in kilogramsh\n",
            "Invalid input. Please enter a number.\n",
            "enter your weight in kilograms47\n",
            "enter your height in meters1.62\n",
            "your BMI is 17.91. you are underweight\n"
          ]
        }
      ]
    },
    {
      "cell_type": "markdown",
      "source": [
        "**Exercise 2: BMI calculator using a function**"
      ],
      "metadata": {
        "id": "RH7_92Od4XTx"
      }
    },
    {
      "cell_type": "code",
      "source": [
        "def calculate_bmi(weight, height):\n",
        "    bmi = weight / (height ** 2)\n",
        "    return round(bmi, 2)\n",
        "\n",
        "def bmi_category(bmi):\n",
        "\n",
        "    if bmi < 18.5:\n",
        "        return \"Underweight\"\n",
        "    elif 18.5 <= bmi < 25:\n",
        "        return \"Normal weight\"\n",
        "    elif 25 <= bmi < 30:\n",
        "        return \"Overweight\"\n",
        "    else:\n",
        "        return \"Obesity\"\n",
        "\n",
        "\n",
        "unit_system = input(\"Choose the unit system (metric/imperial): \").strip().lower()\n",
        "\n",
        "if unit_system == \"metric\":\n",
        "\n",
        "    weight = float(input(\"Enter your weight in kilograms: \"))\n",
        "    height = float(input(\"Enter your height in metrics: \"))\n",
        "elif unit_system == \"imperial\":\n",
        "    weight_pounds = float(input(\"Enter your weight in pounds: \"))\n",
        "    height_inches = float(input(\"Enter your height in inches: \"))\n",
        "\n",
        "    weight = weight_pounds / 2.20462\n",
        "    height = height_inches / 39.3701\n",
        "else:\n",
        "    print(\"Invalid unit system. Please choose 'metric' or 'imperial'.\")\n",
        "    exit()\n",
        "\n",
        "\n",
        "if weight <= 0 or height <= 0:\n",
        "    print(\"Weight and height must be positive values.\")\n",
        "    exit()\n",
        "\n",
        "bmi = calculate_bmi(weight, height)\n",
        "category = bmi_category(bmi)\n",
        "\n",
        "\n",
        "print(f\"\\nYour BMI is: {bmi}\")\n",
        "print(f\"Health Category: {category}\")"
      ],
      "metadata": {
        "id": "enNBSqAy4W72",
        "colab": {
          "base_uri": "https://localhost:8080/"
        },
        "outputId": "105ab5cc-eeff-4320-c7f1-e0158fe53fab"
      },
      "execution_count": null,
      "outputs": [
        {
          "output_type": "stream",
          "name": "stdout",
          "text": [
            "Choose the unit system (metric/imperial): metric\n",
            "Enter your weight in kilograms: 47\n",
            "Enter your height in metrics: 1.55\n",
            "\n",
            "Your BMI is: 19.56\n",
            "Health Category: Normal weight\n"
          ]
        }
      ]
    },
    {
      "cell_type": "markdown",
      "source": [
        "**Exercise 3: polindrome using for loop**"
      ],
      "metadata": {
        "id": "gKGd0lfqxRgG"
      }
    },
    {
      "cell_type": "code",
      "source": [
        "def is_polindrome_for(input_string: str) -> bool:\n",
        "    input_string = ''.join(c for c in input_string if c.isalnum()).lower()\n",
        "\n",
        "    left = 0\n",
        "    right = len(input_string) - 1\n",
        "\n",
        "    for _ in range(len(input_string) // 2):\n",
        "        if input_string[left] != input_string[right]:\n",
        "            return False\n",
        "        left += 1\n",
        "        right -= 1\n",
        "\n",
        "    return True\n",
        "\n",
        "\n",
        "\n",
        "print(is_polindrome_for(\"selam\"))\n",
        "print(is_polindrome_for('A man, a plan, a canal, Panama'))\n",
        "print(is_polindrome_for('python'))\n"
      ],
      "metadata": {
        "id": "O0OhQV-Hwfrb",
        "colab": {
          "base_uri": "https://localhost:8080/"
        },
        "outputId": "1852eeee-113b-4b66-a188-99fa8163e00e"
      },
      "execution_count": null,
      "outputs": [
        {
          "output_type": "stream",
          "name": "stdout",
          "text": [
            "False\n",
            "True\n",
            "False\n"
          ]
        }
      ]
    },
    {
      "cell_type": "markdown",
      "source": [
        "**Exercise 4: Treasure Hunt Game**"
      ],
      "metadata": {
        "id": "ZqnqCvfUxOHN"
      }
    },
    {
      "cell_type": "code",
      "source": [
        "import random\n",
        "\n",
        "def creating_board():\n",
        "    while True:\n",
        "      try:\n",
        "          rows= int(input('enter number of rows of the game board: '))\n",
        "          cols= int(input('enter number of columns of the ganme board: '))\n",
        "          if rows > 0 and cols > 0:\n",
        "           break\n",
        "          else:\n",
        "           print('please enter a positve numbers of rows and cols')\n",
        "      except ValueError:\n",
        "        print('please enter only numbers')\n",
        "    board = [['*' for _ in range(cols)] for _ in range(rows)]\n",
        "    return board\n",
        "#creating_board()\n",
        "def hide_treasure(board):\n",
        "\n",
        "    rows = len(board)\n",
        "    cols = len(board[0])\n",
        "\n",
        "    while True:\n",
        "        try:\n",
        "            treasure_row = int(input(f\"enter row for the treasure (1-{rows}): \")) - 1\n",
        "            treasure_col = int(input(f\"enter column for the treasure (1-{cols}): \")) - 1\n",
        "\n",
        "            if 0 <= treasure_row < rows and 0 <= treasure_col < cols:\n",
        "                board[treasure_row][treasure_col] = 'T'\n",
        "                break\n",
        "            else:\n",
        "                print(\"Invalid location. Please enter a correct location .\")\n",
        "        except ValueError:\n",
        "            print(\"Invalid input. Please enter numbers.\")\n",
        "\n",
        "def place_trap(board, treasure_row, treasure_col):\n",
        "\n",
        "    rows = len(board)\n",
        "    cols = len(board[0])\n",
        "    while True:\n",
        "        trap_row = random.randint(0, rows - 1)\n",
        "        trap_col = random.randint(0, cols - 1)\n",
        "        if trap_row != treasure_row or trap_col != treasure_col:\n",
        "            board[trap_row][trap_col] = 'X'\n",
        "            break\n",
        "\n",
        "def display_board(board):\n",
        "    for row in board:\n",
        "        print(' '.join(row))\n",
        "\n",
        "def guess(board):\n",
        "    rows = len(board)\n",
        "    cols = len(board[0])\n",
        "    while True:\n",
        "        try:\n",
        "            guess_row = int(input(f\"Enter your guess for the treasure row (1-{rows}): \")) - 1\n",
        "            guess_col = int(input(f\"Enter your guess for the treasure column (1-{cols}): \")) - 1\n",
        "            if 0 <= guess_row < rows and 0 <= guess_col < cols:\n",
        "                if board[guess_row][guess_col] == 'T':\n",
        "                    print(\"Congratulations, You found the treasure!\")\n",
        "                    break\n",
        "                elif board[guess_row][guess_col] == 'X':\n",
        "                    print(\" it is a trap\")\n",
        "                    break\n",
        "                else:\n",
        "                    print(\"Try again!\")\n",
        "            else:\n",
        "                print(\"Invalid guess. Please enter a location within the board.\")\n",
        "        except ValueError:\n",
        "            print(\"Invalid input. Please enter integers.\")\n",
        "\n",
        "\n",
        "board = creating_board()\n",
        "hide_treasure(board)\n",
        "treasure_row = -1\n",
        "treasure_col = -1\n",
        "for r_index, row in enumerate(board):\n",
        "    for c_index, cell in enumerate(row):\n",
        "        if cell == \"T\":\n",
        "            treasure_row = r_index\n",
        "            treasure_col = c_index\n",
        "            break\n",
        "    if treasure_row != -1:\n",
        "        break\n",
        "place_trap(board, treasure_row, treasure_col)\n",
        "display_board(board)\n",
        "guess(board)\n"
      ],
      "metadata": {
        "colab": {
          "base_uri": "https://localhost:8080/"
        },
        "id": "Hf8_2DM6W9VB",
        "outputId": "58eddc4f-fff7-4b7a-9a61-16102832afe1"
      },
      "execution_count": null,
      "outputs": [
        {
          "output_type": "stream",
          "name": "stdout",
          "text": [
            "enter number of rows of the game board: 5\n",
            "enter number of columns of the ganme board: 5\n",
            "enter row for the treasure (1-5): 4\n",
            "enter column for the treasure (1-5): 4\n",
            "* * * * X\n",
            "* * * * *\n",
            "* * * * *\n",
            "* * * T *\n",
            "* * * * *\n",
            "Enter your guess for the treasure row (1-5): 4\n",
            "Enter your guess for the treasure column (1-5): 4\n",
            "Congratulations! You found the treasure!\n"
          ]
        }
      ]
    },
    {
      "cell_type": "markdown",
      "source": [
        "**Exercise 5: List Assignment: (Party)**"
      ],
      "metadata": {
        "id": "qHkQumNV4N-P"
      }
    },
    {
      "cell_type": "code",
      "source": [
        "guests= []\n",
        "def add(name):\n",
        "  guests.append(name)\n",
        "\n",
        "def remove(name):\n",
        "  if name in guests:\n",
        "    guests.remove(name)\n",
        "def display():\n",
        "  if guests:\n",
        "    for guest in guests:\n",
        "      print(guest)\n",
        "\n",
        "  else:\n",
        "    print('no guests')\n",
        "\n",
        "def check_name(name):\n",
        "   if name in guests:\n",
        "    print(f'{name} is in the party list')\n",
        "   else:\n",
        "    print(f'{name} is not invited to the party')\n",
        "\n",
        "add(\"selam\")\n",
        "add(\"nathan\")\n",
        "add(\"eyob\")\n",
        "add(\"john\")\n",
        "display()\n",
        "remove(\"john\")\n",
        "print('after removing john')\n",
        "display()\n",
        "check_name('nathan')\n",
        "check_name('john')\n"
      ],
      "metadata": {
        "colab": {
          "base_uri": "https://localhost:8080/"
        },
        "id": "Viu1CUfzWz2a",
        "outputId": "37f94580-5798-4884-e750-79b3bf471564"
      },
      "execution_count": null,
      "outputs": [
        {
          "output_type": "stream",
          "name": "stdout",
          "text": [
            "selam\n",
            "nathan\n",
            "eyob\n",
            "john\n",
            "after removing john\n",
            "selam\n",
            "nathan\n",
            "eyob\n",
            "nathan is in the party list\n",
            "john is not invited to the party\n"
          ]
        }
      ]
    },
    {
      "cell_type": "markdown",
      "source": [
        "Exercise 6: Advanced Party Guest Manager"
      ],
      "metadata": {
        "id": "y733kcZAW1Wa"
      }
    },
    {
      "cell_type": "code",
      "source": [
        "\n",
        "\n",
        "def advanced_guest_manager():\n",
        "    guests = {}\n",
        "\n",
        "    guests[\"Alice\"] = (28, \"alice@email.com\")\n",
        "    guests[\"Bob\"] = (35, \"bob@email.com\")\n",
        "    guests[\"Charlie\"] = (30, \"charlie@email.com\")\n",
        "    guests[\"David\"] = (22, \"david@email.com\")\n",
        "    del guests[\"Bob\"]\n",
        "\n",
        "    def get_guest_info(guest_name):\n",
        "        if guest_name in guests:\n",
        "            age, email = guests[guest_name]\n",
        "            return f\"{guest_name} (Age: {age}) is coming to the party! Email: {email}\"\n",
        "        else:\n",
        "            return f\"{guest_name} is not on the guest list.\"\n",
        "\n",
        "\n",
        "    print(get_guest_info(\"Alice\"))\n",
        "    print(get_guest_info(\"Bob\"))\n",
        "    print(get_guest_info(\"David\"))\n",
        "    print(f\"\\nTotal guests: {len(guests)}\")\n",
        "\n",
        "    def add_guest(name, age, email):\n",
        "        if name in guests:\n",
        "            update = input(f\"{name} is already on the list. Update details? (yes/no): \").lower()\n",
        "            if update == \"yes\":\n",
        "                guests[name] = (age, email)\n",
        "                print(f\"{name}'s details updated.\")\n",
        "            else:\n",
        "                print(f\"{name}'s details not updated.\")\n",
        "        else:\n",
        "            guests[name] = (age, email)\n",
        "            print(f\"{name} added to the guest list.\")\n",
        "\n",
        "    while True:\n",
        "        add = input(\"\\ninvite another guest? (yes/no): \").lower()\n",
        "        if add != \"yes\":\n",
        "            break\n",
        "        name = input(\"Enter guest name: \")\n",
        "        try:\n",
        "            age = int(input(\"Enter guest age: \"))\n",
        "            email = input(\"Enter guest email: \")\n",
        "            add_guest(name, age, email)\n",
        "        except ValueError:\n",
        "            print(\"Incorrect age. please enter a number.\")\n",
        "    print(\"\\nGuests in age order:\")\n",
        "    sorted_guests = sorted(guests.items(), key=lambda item: item[1][0])\n",
        "    for name, (age, email) in sorted_guests:\n",
        "        print(f\"{name} (Age: {age}), Email: {email}\")\n",
        "\n",
        "\n",
        "advanced_guest_manager()"
      ],
      "metadata": {
        "colab": {
          "base_uri": "https://localhost:8080/"
        },
        "id": "bTewehd5W1t1",
        "outputId": "8114e416-8975-494d-ee54-e4b59acd3bb9"
      },
      "execution_count": null,
      "outputs": [
        {
          "output_type": "stream",
          "name": "stdout",
          "text": [
            "Alice (Age: 28) is coming to the party! Email: alice@email.com\n",
            "Bob is not on the guest list.\n",
            "David (Age: 22) is coming to the party! Email: david@email.com\n",
            "\n",
            "Total guests: 3\n",
            "\n",
            "invite another guest? (yes/no): yes\n",
            "Enter guest name: kiflay\n",
            "Enter guest age: 59\n",
            "Enter guest email: kilay@email.com\n",
            "kiflay added to the guest list.\n",
            "\n",
            "invite another guest? (yes/no): yes\n",
            "Enter guest name: selam\n",
            "Enter guest age: 22\n",
            "Enter guest email: sel@gmail.com\n",
            "selam added to the guest list.\n",
            "\n",
            "invite another guest? (yes/no): no\n",
            "\n",
            "Guests in age order:\n",
            "David (Age: 22), Email: david@email.com\n",
            "selam (Age: 22), Email: sel@gmail.com\n",
            "Alice (Age: 28), Email: alice@email.com\n",
            "Charlie (Age: 30), Email: charlie@email.com\n",
            "kiflay (Age: 59), Email: kilay@email.com\n"
          ]
        }
      ]
    }
  ]
}